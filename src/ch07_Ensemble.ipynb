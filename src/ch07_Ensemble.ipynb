{
 "cells": [
  {
   "cell_type": "markdown",
   "id": "6593660f",
   "metadata": {},
   "source": [
    "## ch07. 앙상블 학습 "
   ]
  },
  {
   "cell_type": "markdown",
   "id": "775742e7",
   "metadata": {},
   "source": [
    "### 다수결 투표 방식 "
   ]
  },
  {
   "cell_type": "code",
   "execution_count": 1,
   "id": "2a24e916",
   "metadata": {},
   "outputs": [],
   "source": [
    "## 연습용 데이터 적재 하기 \n",
    "## 위스콘신 유방암 데이터세트 \n",
    "\n",
    "import pandas as pd\n",
    "\n",
    "df = pd.read_csv('https://archive.ics.uci.edu/ml/'\n",
    "                 'machine-learning-databases'\n",
    "                 '/breast-cancer-wisconsin/wdbc.data', header=None)"
   ]
  },
  {
   "cell_type": "code",
   "execution_count": 2,
   "id": "3113c5dd",
   "metadata": {},
   "outputs": [
    {
     "data": {
      "text/html": [
       "<div>\n",
       "<style scoped>\n",
       "    .dataframe tbody tr th:only-of-type {\n",
       "        vertical-align: middle;\n",
       "    }\n",
       "\n",
       "    .dataframe tbody tr th {\n",
       "        vertical-align: top;\n",
       "    }\n",
       "\n",
       "    .dataframe thead th {\n",
       "        text-align: right;\n",
       "    }\n",
       "</style>\n",
       "<table border=\"1\" class=\"dataframe\">\n",
       "  <thead>\n",
       "    <tr style=\"text-align: right;\">\n",
       "      <th></th>\n",
       "      <th>0</th>\n",
       "      <th>1</th>\n",
       "      <th>2</th>\n",
       "      <th>3</th>\n",
       "      <th>4</th>\n",
       "      <th>5</th>\n",
       "      <th>6</th>\n",
       "      <th>7</th>\n",
       "      <th>8</th>\n",
       "      <th>9</th>\n",
       "      <th>...</th>\n",
       "      <th>22</th>\n",
       "      <th>23</th>\n",
       "      <th>24</th>\n",
       "      <th>25</th>\n",
       "      <th>26</th>\n",
       "      <th>27</th>\n",
       "      <th>28</th>\n",
       "      <th>29</th>\n",
       "      <th>30</th>\n",
       "      <th>31</th>\n",
       "    </tr>\n",
       "  </thead>\n",
       "  <tbody>\n",
       "    <tr>\n",
       "      <th>0</th>\n",
       "      <td>842302</td>\n",
       "      <td>M</td>\n",
       "      <td>17.99</td>\n",
       "      <td>10.38</td>\n",
       "      <td>122.80</td>\n",
       "      <td>1001.0</td>\n",
       "      <td>0.11840</td>\n",
       "      <td>0.27760</td>\n",
       "      <td>0.3001</td>\n",
       "      <td>0.14710</td>\n",
       "      <td>...</td>\n",
       "      <td>25.38</td>\n",
       "      <td>17.33</td>\n",
       "      <td>184.60</td>\n",
       "      <td>2019.0</td>\n",
       "      <td>0.1622</td>\n",
       "      <td>0.6656</td>\n",
       "      <td>0.7119</td>\n",
       "      <td>0.2654</td>\n",
       "      <td>0.4601</td>\n",
       "      <td>0.11890</td>\n",
       "    </tr>\n",
       "    <tr>\n",
       "      <th>1</th>\n",
       "      <td>842517</td>\n",
       "      <td>M</td>\n",
       "      <td>20.57</td>\n",
       "      <td>17.77</td>\n",
       "      <td>132.90</td>\n",
       "      <td>1326.0</td>\n",
       "      <td>0.08474</td>\n",
       "      <td>0.07864</td>\n",
       "      <td>0.0869</td>\n",
       "      <td>0.07017</td>\n",
       "      <td>...</td>\n",
       "      <td>24.99</td>\n",
       "      <td>23.41</td>\n",
       "      <td>158.80</td>\n",
       "      <td>1956.0</td>\n",
       "      <td>0.1238</td>\n",
       "      <td>0.1866</td>\n",
       "      <td>0.2416</td>\n",
       "      <td>0.1860</td>\n",
       "      <td>0.2750</td>\n",
       "      <td>0.08902</td>\n",
       "    </tr>\n",
       "    <tr>\n",
       "      <th>2</th>\n",
       "      <td>84300903</td>\n",
       "      <td>M</td>\n",
       "      <td>19.69</td>\n",
       "      <td>21.25</td>\n",
       "      <td>130.00</td>\n",
       "      <td>1203.0</td>\n",
       "      <td>0.10960</td>\n",
       "      <td>0.15990</td>\n",
       "      <td>0.1974</td>\n",
       "      <td>0.12790</td>\n",
       "      <td>...</td>\n",
       "      <td>23.57</td>\n",
       "      <td>25.53</td>\n",
       "      <td>152.50</td>\n",
       "      <td>1709.0</td>\n",
       "      <td>0.1444</td>\n",
       "      <td>0.4245</td>\n",
       "      <td>0.4504</td>\n",
       "      <td>0.2430</td>\n",
       "      <td>0.3613</td>\n",
       "      <td>0.08758</td>\n",
       "    </tr>\n",
       "    <tr>\n",
       "      <th>3</th>\n",
       "      <td>84348301</td>\n",
       "      <td>M</td>\n",
       "      <td>11.42</td>\n",
       "      <td>20.38</td>\n",
       "      <td>77.58</td>\n",
       "      <td>386.1</td>\n",
       "      <td>0.14250</td>\n",
       "      <td>0.28390</td>\n",
       "      <td>0.2414</td>\n",
       "      <td>0.10520</td>\n",
       "      <td>...</td>\n",
       "      <td>14.91</td>\n",
       "      <td>26.50</td>\n",
       "      <td>98.87</td>\n",
       "      <td>567.7</td>\n",
       "      <td>0.2098</td>\n",
       "      <td>0.8663</td>\n",
       "      <td>0.6869</td>\n",
       "      <td>0.2575</td>\n",
       "      <td>0.6638</td>\n",
       "      <td>0.17300</td>\n",
       "    </tr>\n",
       "    <tr>\n",
       "      <th>4</th>\n",
       "      <td>84358402</td>\n",
       "      <td>M</td>\n",
       "      <td>20.29</td>\n",
       "      <td>14.34</td>\n",
       "      <td>135.10</td>\n",
       "      <td>1297.0</td>\n",
       "      <td>0.10030</td>\n",
       "      <td>0.13280</td>\n",
       "      <td>0.1980</td>\n",
       "      <td>0.10430</td>\n",
       "      <td>...</td>\n",
       "      <td>22.54</td>\n",
       "      <td>16.67</td>\n",
       "      <td>152.20</td>\n",
       "      <td>1575.0</td>\n",
       "      <td>0.1374</td>\n",
       "      <td>0.2050</td>\n",
       "      <td>0.4000</td>\n",
       "      <td>0.1625</td>\n",
       "      <td>0.2364</td>\n",
       "      <td>0.07678</td>\n",
       "    </tr>\n",
       "  </tbody>\n",
       "</table>\n",
       "<p>5 rows × 32 columns</p>\n",
       "</div>"
      ],
      "text/plain": [
       "         0  1      2      3       4       5        6        7       8   \\\n",
       "0    842302  M  17.99  10.38  122.80  1001.0  0.11840  0.27760  0.3001   \n",
       "1    842517  M  20.57  17.77  132.90  1326.0  0.08474  0.07864  0.0869   \n",
       "2  84300903  M  19.69  21.25  130.00  1203.0  0.10960  0.15990  0.1974   \n",
       "3  84348301  M  11.42  20.38   77.58   386.1  0.14250  0.28390  0.2414   \n",
       "4  84358402  M  20.29  14.34  135.10  1297.0  0.10030  0.13280  0.1980   \n",
       "\n",
       "        9   ...     22     23      24      25      26      27      28      29  \\\n",
       "0  0.14710  ...  25.38  17.33  184.60  2019.0  0.1622  0.6656  0.7119  0.2654   \n",
       "1  0.07017  ...  24.99  23.41  158.80  1956.0  0.1238  0.1866  0.2416  0.1860   \n",
       "2  0.12790  ...  23.57  25.53  152.50  1709.0  0.1444  0.4245  0.4504  0.2430   \n",
       "3  0.10520  ...  14.91  26.50   98.87   567.7  0.2098  0.8663  0.6869  0.2575   \n",
       "4  0.10430  ...  22.54  16.67  152.20  1575.0  0.1374  0.2050  0.4000  0.1625   \n",
       "\n",
       "       30       31  \n",
       "0  0.4601  0.11890  \n",
       "1  0.2750  0.08902  \n",
       "2  0.3613  0.08758  \n",
       "3  0.6638  0.17300  \n",
       "4  0.2364  0.07678  \n",
       "\n",
       "[5 rows x 32 columns]"
      ]
     },
     "execution_count": 2,
     "metadata": {},
     "output_type": "execute_result"
    }
   ],
   "source": [
    "df.head()"
   ]
  },
  {
   "cell_type": "markdown",
   "id": "ca7f25b3",
   "metadata": {},
   "source": [
    "0 열: 환자의 고유 아이디 넘버\n",
    "\n",
    "1 열: 종양의 악성/양성 여부 (M =악성, B =양성)\n",
    "\n",
    "2~31 열: 세포 핵의 이미지로 부터 추출된 측성값"
   ]
  },
  {
   "cell_type": "code",
   "execution_count": 24,
   "id": "5b816cc5",
   "metadata": {},
   "outputs": [],
   "source": [
    "from sklearn.model_selection import train_test_split\n",
    "from sklearn.preprocessing import StandardScaler \n",
    "from sklearn.preprocessing import LabelEncoder\n",
    "\n",
    "X = df.iloc[:,2:].values\n",
    "y = df.iloc[:,1].values\n",
    "\n",
    "sc = StandardScaler()\n",
    "le = LabelEncoder()\n",
    "\n",
    "X = sc.fit_transform(X)\n",
    "y = le.fit_transform(y)\n",
    "\n",
    "X_train, X_test, y_train, y_test = train_test_split(X,y,test_size=0.3)"
   ]
  },
  {
   "cell_type": "code",
   "execution_count": 48,
   "id": "d7fbd18d",
   "metadata": {
    "scrolled": false
   },
   "outputs": [],
   "source": [
    "from sklearn.linear_model import LogisticRegression \n",
    "from sklearn.tree import DecisionTreeClassifier \n",
    "from sklearn.svm import SVC \n",
    "from sklearn.model_selection import cross_val_score\n",
    "\n",
    "lr = LogisticRegression(C=1)\n",
    "dt = DecisionTreeClassifier()\n",
    "sc = SVC(C=1, gamma=0.01,kernel='rbf',probability=True)\n",
    "\n",
    "lr.fit(X_train, y_train)\n",
    "dt.fit(X_train, y_train)\n",
    "sc.fit(X_train, y_train)\n",
    "\n",
    "clf = [lr,dt,sc]\n",
    "clf_label = ['Logistic Regression','Decision Tree','Support Vector Classifier']"
   ]
  },
  {
   "cell_type": "code",
   "execution_count": 49,
   "id": "532310b4",
   "metadata": {},
   "outputs": [
    {
     "name": "stdout",
     "output_type": "stream",
     "text": [
      "Logistic Regression:0.983\n",
      "Decision Tree:0.953\n",
      "Support Vector Classifier:0.971\n"
     ]
    }
   ],
   "source": [
    "import numpy as np\n",
    "\n",
    "for meta, label in zip(clf, clf_label):\n",
    "    score = cross_val_score(meta,X_test,y_test,cv=10)\n",
    "    mean_score = np.mean(score)\n",
    "    print('%s:%.3f'%(label, mean_score))"
   ]
  },
  {
   "cell_type": "markdown",
   "id": "3286b9ce",
   "metadata": {},
   "source": [
    "앙상블 모델 적용 이전 각각의 개별 분류기들의 성능"
   ]
  },
  {
   "cell_type": "code",
   "execution_count": 52,
   "id": "626a1afe",
   "metadata": {},
   "outputs": [
    {
     "name": "stdout",
     "output_type": "stream",
     "text": [
      "다수결 투표 모델 정확도:0.988\n"
     ]
    }
   ],
   "source": [
    "from sklearn.ensemble import VotingClassifier \n",
    "from sklearn.metrics import accuracy_score\n",
    "\n",
    "clf = [('lr',lr),('dt',dt),('sc',sc)]\n",
    "\n",
    "vc = VotingClassifier(estimators=clf, voting='soft')\n",
    "\n",
    "vc.fit(X_train, y_train)\n",
    "\n",
    "y_pred = vc.predict(X_test)\n",
    "\n",
    "print('다수결 투표 모델 정확도:%.3f'%accuracy_score(y_true=y_test, y_pred=y_pred))"
   ]
  },
  {
   "cell_type": "markdown",
   "id": "147d3287",
   "metadata": {},
   "source": [
    "개별 메타 분류기를 결합해 만든 앙상블 모델의 모델 정확도 \n",
    "\n",
    "voting='soft' 로 설정하여 개별 메타 분류기가 예측한 레이블 값이 아닌, 확률값을 기반으로 최종 결과값을 계산한다. \n",
    "\n",
    "반대로 voting='hard' 로 설정하면 개별 분류기의 결과값을 레이블 값으로 받고 그걸 기반으로 다수결 투표를 진행함. \n",
    "\n",
    "또한 VotingClassifier 메소드는 estimator 에 쓰일 개별 분류기 집합을 튜플 형태의 배열을 인자값으로 받는다는 점에 유의"
   ]
  },
  {
   "cell_type": "code",
   "execution_count": 121,
   "id": "e7eaa900",
   "metadata": {},
   "outputs": [
    {
     "data": {
      "text/plain": [
       "[<matplotlib.lines.Line2D at 0x1343a497fa0>]"
      ]
     },
     "execution_count": 121,
     "metadata": {},
     "output_type": "execute_result"
    },
    {
     "data": {
      "image/png": "[encoded data removed]",
      "text/plain": [
       "<Figure size 432x288 with 1 Axes>"
      ]
     },
     "metadata": {
      "needs_background": "light"
     },
     "output_type": "display_data"
    }
   ],
   "source": [
    "import matplotlib.pyplot as plt \n",
    "from sklearn.metrics import roc_curve, auc\n",
    "\n",
    "lists = [lr,dt,sc,vc]\n",
    "list_labels = ['Logistic Regression','Decision Tree','Support Vector Classifier','Ensemble']\n",
    "colors = ['red','green','blue','black']\n",
    "\n",
    "for meta, labels,c in zip(lists,list_labels,colors):\n",
    "    meta.fit(X_train, y_train)\n",
    "    y_pred = meta.predict_proba(X_test)[:,1]\n",
    "    fpr, tpr, thresholds = roc_curve(y_true=y_test,y_score=y_pred)\n",
    "    auc_score = auc(fpr,tpr)\n",
    "    plt.plot(fpr, tpr,color=c, label='%s (auc=%.3f)'%(labels, auc_score))\n",
    "    \n",
    "plt.grid()\n",
    "plt.xlabel('False Positive Rate (fpr)')\n",
    "plt.ylabel('True Positive Rate (tpr)')\n",
    "plt.title('ROC curve for each Classifier')\n",
    "plt.legend(loc='lower right')\n",
    "plt.plot([0,1],[0,1],linestyle='--',color='gray')"
   ]
  },
  {
   "cell_type": "markdown",
   "id": "705984ed",
   "metadata": {},
   "source": [
    "그래프 그릴때 주의할것 : 서포트 벡터 머신 생성시 SVC(probability=True)를 지정해줘야 결과값으로 레이블 값이 아닌 레이블 소속 \n",
    "\n",
    "확률을 반환함!"
   ]
  },
  {
   "cell_type": "markdown",
   "id": "e7a88faf",
   "metadata": {},
   "source": [
    "### 배깅 기법을 통한 앙상블 모델 구축"
   ]
  },
  {
   "cell_type": "code",
   "execution_count": 72,
   "id": "b357066d",
   "metadata": {},
   "outputs": [
    {
     "name": "stdout",
     "output_type": "stream",
     "text": [
      "로지스틱회귀 배깅 모델의 정확도: 0.965\n"
     ]
    }
   ],
   "source": [
    "from sklearn.ensemble import BaggingClassifier \n",
    "\n",
    "bag = BaggingClassifier(base_estimator=lr, bootstrap=True, bootstrap_features=False)\n",
    "\n",
    "bag.fit(X_train, y_train)\n",
    "\n",
    "y_pred = bag.predict(X_test)\n",
    "\n",
    "print('로지스틱회귀 배깅 모델의 정확도: %.3f'%accuracy_score(y_pred=y_pred, y_true=y_test))"
   ]
  },
  {
   "cell_type": "markdown",
   "id": "932b3aa3",
   "metadata": {},
   "source": [
    "BaggingClassifier 메소드는 한가지 종류의 base_estimator 을 받아서 중복 샘플 추출을 통해 모델을 학습시킨다. "
   ]
  },
  {
   "cell_type": "code",
   "execution_count": 74,
   "id": "99383af3",
   "metadata": {},
   "outputs": [
    {
     "name": "stdout",
     "output_type": "stream",
     "text": [
      "결정트리 배깅 모델의 정확도: 0.971\n"
     ]
    }
   ],
   "source": [
    "tree = DecisionTreeClassifier(criterion='entropy',max_depth=None, random_state=1)\n",
    "bag_tree = BaggingClassifier(base_estimator=tree,n_estimators=500,max_features=1.0,max_samples=1.0)\n",
    "\n",
    "bag.fit(X_train, y_train)\n",
    "\n",
    "y_pred = bag.predict(X_test)\n",
    "\n",
    "print('결정트리 배깅 모델의 정확도: %.3f'%accuracy_score(y_pred=y_pred, y_true=y_test))"
   ]
  },
  {
   "cell_type": "markdown",
   "id": "5fcd4db2",
   "metadata": {},
   "source": [
    "### 부스팅 기법을 활용한 앙상블 모델 구축 "
   ]
  },
  {
   "cell_type": "markdown",
   "id": "a2633210",
   "metadata": {},
   "source": [
    "#### XGBoost 모델"
   ]
  },
  {
   "cell_type": "code",
   "execution_count": 125,
   "id": "21db1eb3",
   "metadata": {
    "scrolled": false
   },
   "outputs": [
    {
     "data": {
      "text/plain": [
       "GridSearchCV(cv=10,\n",
       "             estimator=XGBClassifier(base_score=None, booster=None,\n",
       "                                     colsample_bylevel=None,\n",
       "                                     colsample_bynode=None,\n",
       "                                     colsample_bytree=None,\n",
       "                                     disable_default_eval_metric=1, gamma=None,\n",
       "                                     gpu_id=None, importance_type='gain',\n",
       "                                     interaction_constraints=None,\n",
       "                                     learning_rate=None, max_delta_step=None,\n",
       "                                     max_depth=None, min_child_weight=None,\n",
       "                                     missing=nan, monotone_constrain...\n",
       "                                     num_parallel_tree=None, random_state=None,\n",
       "                                     reg_alpha=None, reg_lambda=None,\n",
       "                                     scale_pos_weight=None, subsample=None,\n",
       "                                     tree_method=None, use_label_encoder=False,\n",
       "                                     validate_parameters=None, verbosity=None),\n",
       "             param_grid={'booster': ['gbtree'], 'colsample_bylevel': [0.9],\n",
       "                         'colsample_bytree': [0.5, 0.8], 'gamma': [0, 1, 2, 3],\n",
       "                         'n_estimators': [50], 'objective': ['binary:logistic'],\n",
       "                         'random_state': [2]},\n",
       "             scoring='accuracy')"
      ]
     },
     "execution_count": 125,
     "metadata": {},
     "output_type": "execute_result"
    }
   ],
   "source": [
    "from xgboost import XGBClassifier\n",
    "\n",
    "xgb = XGBClassifier(use_label_encoder=False, disable_default_eval_metric= 1)\n",
    "\n",
    "param_grid={'booster' :['gbtree'],\n",
    "                 'gamma':[0,1,2,3],\n",
    "                 'colsample_bytree':[0.5,0.8],\n",
    "                 'colsample_bylevel':[0.9],\n",
    "                 'n_estimators':[50],\n",
    "                 'objective':['binary:logistic'],\n",
    "                 'random_state':[2]}\n",
    "\n",
    "gs = GridSearchCV(estimator=xgb, param_grid=param_grid, cv=10, scoring='accuracy')\n",
    "\n",
    "\n",
    "gs.fit(X_train, y_train)"
   ]
  },
  {
   "cell_type": "code",
   "execution_count": 104,
   "id": "6f9090d4",
   "metadata": {},
   "outputs": [
    {
     "name": "stdout",
     "output_type": "stream",
     "text": [
      "최적 파라미터 값들:{'booster': 'gbtree', 'colsample_bylevel': 0.9, 'colsample_bytree': 0.8, 'gamma': 1, 'n_estimators': 50, 'objective': 'binary:logistic', 'random_state': 2}\n",
      "\n",
      "XGBoost 모델 정확도:0.965\n"
     ]
    }
   ],
   "source": [
    "print('최적 파라미터 값들:%s\\n'%gs.best_params_)\n",
    "print('XGBoost 모델 정확도:%.3f'%gs.best_score_)"
   ]
  },
  {
   "cell_type": "markdown",
   "id": "a1f500c6",
   "metadata": {},
   "source": [
    "### 스태킹 기법을 활용한 앙상블 모델"
   ]
  },
  {
   "cell_type": "code",
   "execution_count": 124,
   "id": "b06890d6",
   "metadata": {},
   "outputs": [
    {
     "data": {
      "text/plain": [
       "<matplotlib.legend.Legend at 0x1343a6d3f40>"
      ]
     },
     "execution_count": 124,
     "metadata": {},
     "output_type": "execute_result"
    },
    {
     "data": {
      "image/png": "[encoded data removed]",
      "text/plain": [
       "<Figure size 432x288 with 1 Axes>"
      ]
     },
     "metadata": {
      "needs_background": "light"
     },
     "output_type": "display_data"
    }
   ],
   "source": [
    "from sklearn.ensemble import StackingClassifier\n",
    "from sklearn.neighbors import KNeighborsClassifier\n",
    "\n",
    "lr = LogisticRegression(C=1)\n",
    "sc = SVC(C=1, gamma=0.01,kernel='rbf',probability=True)\n",
    "knn = KNeighborsClassifier(n_neighbors=5) \n",
    "\n",
    "base_learners = [('lr',lr),('sc',sc),('knn',knn)]\n",
    "\n",
    "stacking = StackingClassifier(estimators=base_learners, final_estimator=lr, cv=10)\n",
    "\n",
    "lists = [lr,sc,knn,stacking]\n",
    "list_labels = ['Logistic Regression','Support Vector Classifier','k-nearest neighbor','Stacking']\n",
    "colors = ['red','green','blue','black']\n",
    "\n",
    "for clf, label, c in zip(lists, list_labels, colors):\n",
    "    clf.fit(X_train, y_train) \n",
    "    prob = clf.predict_proba(X_test)[:,1]\n",
    "    fpr, tpr, thresholds = roc_curve(y_true=y_test,y_score=prob)\n",
    "    plt.plot(fpr, tpr,color=c, label='%s'%(label))\n",
    "\n",
    "plt.plot([0,1],[0,1],linestyle='--',color='gray')\n",
    "plt.grid()\n",
    "plt.xlabel('False Positive Rate')\n",
    "plt.ylabel('True Positive Rate')\n",
    "plt.title('ROC curve')\n",
    "plt.legend(loc='lower right')"
   ]
  }
 ],
 "metadata": {
  "kernelspec": {
   "display_name": "Python 3",
   "language": "python",
   "name": "python3"
  },
  "language_info": {
   "codemirror_mode": {
    "name": "ipython",
    "version": 3
   },
   "file_extension": ".py",
   "mimetype": "text/x-python",
   "name": "python",
   "nbconvert_exporter": "python",
   "pygments_lexer": "ipython3",
   "version": "3.8.8"
  },
  "toc": {
   "base_numbering": 1,
   "nav_menu": {},
   "number_sections": true,
   "sideBar": true,
   "skip_h1_title": false,
   "title_cell": "Table of Contents",
   "title_sidebar": "Contents",
   "toc_cell": false,
   "toc_position": {},
   "toc_section_display": true,
   "toc_window_display": false
  },
  "varInspector": {
   "cols": {
    "lenName": 16,
    "lenType": 16,
    "lenVar": 40
   },
   "kernels_config": {
    "python": {
     "delete_cmd_postfix": "",
     "delete_cmd_prefix": "del ",
     "library": "var_list.py",
     "varRefreshCmd": "print(var_dic_list())"
    },
    "r": {
     "delete_cmd_postfix": ") ",
     "delete_cmd_prefix": "rm(",
     "library": "var_list.r",
     "varRefreshCmd": "cat(var_dic_list()) "
    }
   },
   "types_to_exclude": [
    "module",
    "function",
    "builtin_function_or_method",
    "instance",
    "_Feature"
   ],
   "window_display": false
  }
 },
 "nbformat": 4,
 "nbformat_minor": 5
}
