{
 "cells": [
  {
   "cell_type": "markdown",
   "id": "02f7bf22",
   "metadata": {},
   "source": [
    "\n",
    "# ch06. 하이퍼 파라미터 튜닝과 모델 성능지표"
   ]
  },
  {
   "cell_type": "markdown",
   "id": "37d3a938",
   "metadata": {},
   "source": [
    "## 파이프라인"
   ]
  },
  {
   "cell_type": "code",
   "execution_count": 8,
   "id": "e2d85abe",
   "metadata": {},
   "outputs": [],
   "source": [
    "## 연습용 데이터 적재 하기 \n",
    "## 위스콘신 유방암 데이터세트 \n",
    "\n",
    "import pandas as pd\n",
    "\n",
    "df = pd.read_csv('https://archive.ics.uci.edu/ml/'\n",
    "                 'machine-learning-databases'\n",
    "                 '/breast-cancer-wisconsin/wdbc.data', header=None)"
   ]
  },
  {
   "cell_type": "code",
   "execution_count": 9,
   "id": "8946934d",
   "metadata": {},
   "outputs": [
    {
     "data": {
      "text/html": [
       "<div>\n",
       "<style scoped>\n",
       "    .dataframe tbody tr th:only-of-type {\n",
       "        vertical-align: middle;\n",
       "    }\n",
       "\n",
       "    .dataframe tbody tr th {\n",
       "        vertical-align: top;\n",
       "    }\n",
       "\n",
       "    .dataframe thead th {\n",
       "        text-align: right;\n",
       "    }\n",
       "</style>\n",
       "<table border=\"1\" class=\"dataframe\">\n",
       "  <thead>\n",
       "    <tr style=\"text-align: right;\">\n",
       "      <th></th>\n",
       "      <th>0</th>\n",
       "      <th>1</th>\n",
       "      <th>2</th>\n",
       "      <th>3</th>\n",
       "      <th>4</th>\n",
       "      <th>5</th>\n",
       "      <th>6</th>\n",
       "      <th>7</th>\n",
       "      <th>8</th>\n",
       "      <th>9</th>\n",
       "      <th>10</th>\n",
       "      <th>11</th>\n",
       "      <th>12</th>\n",
       "      <th>13</th>\n",
       "      <th>14</th>\n",
       "      <th>15</th>\n",
       "      <th>16</th>\n",
       "      <th>17</th>\n",
       "      <th>18</th>\n",
       "      <th>19</th>\n",
       "      <th>20</th>\n",
       "      <th>21</th>\n",
       "      <th>22</th>\n",
       "      <th>23</th>\n",
       "      <th>24</th>\n",
       "      <th>25</th>\n",
       "      <th>26</th>\n",
       "      <th>27</th>\n",
       "      <th>28</th>\n",
       "      <th>29</th>\n",
       "      <th>30</th>\n",
       "      <th>31</th>\n",
       "    </tr>\n",
       "  </thead>\n",
       "  <tbody>\n",
       "    <tr>\n",
       "      <th>0</th>\n",
       "      <td>842302</td>\n",
       "      <td>M</td>\n",
       "      <td>17.99</td>\n",
       "      <td>10.38</td>\n",
       "      <td>122.80</td>\n",
       "      <td>1001.0</td>\n",
       "      <td>0.11840</td>\n",
       "      <td>0.27760</td>\n",
       "      <td>0.3001</td>\n",
       "      <td>0.14710</td>\n",
       "      <td>0.2419</td>\n",
       "      <td>0.07871</td>\n",
       "      <td>1.0950</td>\n",
       "      <td>0.9053</td>\n",
       "      <td>8.589</td>\n",
       "      <td>153.40</td>\n",
       "      <td>0.006399</td>\n",
       "      <td>0.04904</td>\n",
       "      <td>0.05373</td>\n",
       "      <td>0.01587</td>\n",
       "      <td>0.03003</td>\n",
       "      <td>0.006193</td>\n",
       "      <td>25.38</td>\n",
       "      <td>17.33</td>\n",
       "      <td>184.60</td>\n",
       "      <td>2019.0</td>\n",
       "      <td>0.1622</td>\n",
       "      <td>0.6656</td>\n",
       "      <td>0.7119</td>\n",
       "      <td>0.2654</td>\n",
       "      <td>0.4601</td>\n",
       "      <td>0.11890</td>\n",
       "    </tr>\n",
       "    <tr>\n",
       "      <th>1</th>\n",
       "      <td>842517</td>\n",
       "      <td>M</td>\n",
       "      <td>20.57</td>\n",
       "      <td>17.77</td>\n",
       "      <td>132.90</td>\n",
       "      <td>1326.0</td>\n",
       "      <td>0.08474</td>\n",
       "      <td>0.07864</td>\n",
       "      <td>0.0869</td>\n",
       "      <td>0.07017</td>\n",
       "      <td>0.1812</td>\n",
       "      <td>0.05667</td>\n",
       "      <td>0.5435</td>\n",
       "      <td>0.7339</td>\n",
       "      <td>3.398</td>\n",
       "      <td>74.08</td>\n",
       "      <td>0.005225</td>\n",
       "      <td>0.01308</td>\n",
       "      <td>0.01860</td>\n",
       "      <td>0.01340</td>\n",
       "      <td>0.01389</td>\n",
       "      <td>0.003532</td>\n",
       "      <td>24.99</td>\n",
       "      <td>23.41</td>\n",
       "      <td>158.80</td>\n",
       "      <td>1956.0</td>\n",
       "      <td>0.1238</td>\n",
       "      <td>0.1866</td>\n",
       "      <td>0.2416</td>\n",
       "      <td>0.1860</td>\n",
       "      <td>0.2750</td>\n",
       "      <td>0.08902</td>\n",
       "    </tr>\n",
       "    <tr>\n",
       "      <th>2</th>\n",
       "      <td>84300903</td>\n",
       "      <td>M</td>\n",
       "      <td>19.69</td>\n",
       "      <td>21.25</td>\n",
       "      <td>130.00</td>\n",
       "      <td>1203.0</td>\n",
       "      <td>0.10960</td>\n",
       "      <td>0.15990</td>\n",
       "      <td>0.1974</td>\n",
       "      <td>0.12790</td>\n",
       "      <td>0.2069</td>\n",
       "      <td>0.05999</td>\n",
       "      <td>0.7456</td>\n",
       "      <td>0.7869</td>\n",
       "      <td>4.585</td>\n",
       "      <td>94.03</td>\n",
       "      <td>0.006150</td>\n",
       "      <td>0.04006</td>\n",
       "      <td>0.03832</td>\n",
       "      <td>0.02058</td>\n",
       "      <td>0.02250</td>\n",
       "      <td>0.004571</td>\n",
       "      <td>23.57</td>\n",
       "      <td>25.53</td>\n",
       "      <td>152.50</td>\n",
       "      <td>1709.0</td>\n",
       "      <td>0.1444</td>\n",
       "      <td>0.4245</td>\n",
       "      <td>0.4504</td>\n",
       "      <td>0.2430</td>\n",
       "      <td>0.3613</td>\n",
       "      <td>0.08758</td>\n",
       "    </tr>\n",
       "    <tr>\n",
       "      <th>3</th>\n",
       "      <td>84348301</td>\n",
       "      <td>M</td>\n",
       "      <td>11.42</td>\n",
       "      <td>20.38</td>\n",
       "      <td>77.58</td>\n",
       "      <td>386.1</td>\n",
       "      <td>0.14250</td>\n",
       "      <td>0.28390</td>\n",
       "      <td>0.2414</td>\n",
       "      <td>0.10520</td>\n",
       "      <td>0.2597</td>\n",
       "      <td>0.09744</td>\n",
       "      <td>0.4956</td>\n",
       "      <td>1.1560</td>\n",
       "      <td>3.445</td>\n",
       "      <td>27.23</td>\n",
       "      <td>0.009110</td>\n",
       "      <td>0.07458</td>\n",
       "      <td>0.05661</td>\n",
       "      <td>0.01867</td>\n",
       "      <td>0.05963</td>\n",
       "      <td>0.009208</td>\n",
       "      <td>14.91</td>\n",
       "      <td>26.50</td>\n",
       "      <td>98.87</td>\n",
       "      <td>567.7</td>\n",
       "      <td>0.2098</td>\n",
       "      <td>0.8663</td>\n",
       "      <td>0.6869</td>\n",
       "      <td>0.2575</td>\n",
       "      <td>0.6638</td>\n",
       "      <td>0.17300</td>\n",
       "    </tr>\n",
       "    <tr>\n",
       "      <th>4</th>\n",
       "      <td>84358402</td>\n",
       "      <td>M</td>\n",
       "      <td>20.29</td>\n",
       "      <td>14.34</td>\n",
       "      <td>135.10</td>\n",
       "      <td>1297.0</td>\n",
       "      <td>0.10030</td>\n",
       "      <td>0.13280</td>\n",
       "      <td>0.1980</td>\n",
       "      <td>0.10430</td>\n",
       "      <td>0.1809</td>\n",
       "      <td>0.05883</td>\n",
       "      <td>0.7572</td>\n",
       "      <td>0.7813</td>\n",
       "      <td>5.438</td>\n",
       "      <td>94.44</td>\n",
       "      <td>0.011490</td>\n",
       "      <td>0.02461</td>\n",
       "      <td>0.05688</td>\n",
       "      <td>0.01885</td>\n",
       "      <td>0.01756</td>\n",
       "      <td>0.005115</td>\n",
       "      <td>22.54</td>\n",
       "      <td>16.67</td>\n",
       "      <td>152.20</td>\n",
       "      <td>1575.0</td>\n",
       "      <td>0.1374</td>\n",
       "      <td>0.2050</td>\n",
       "      <td>0.4000</td>\n",
       "      <td>0.1625</td>\n",
       "      <td>0.2364</td>\n",
       "      <td>0.07678</td>\n",
       "    </tr>\n",
       "  </tbody>\n",
       "</table>\n",
       "</div>"
      ],
      "text/plain": [
       "         0  1      2      3       4       5        6   ...      25      26      27      28      29      30       31\n",
       "0    842302  M  17.99  10.38  122.80  1001.0  0.11840  ...  2019.0  0.1622  0.6656  0.7119  0.2654  0.4601  0.11890\n",
       "1    842517  M  20.57  17.77  132.90  1326.0  0.08474  ...  1956.0  0.1238  0.1866  0.2416  0.1860  0.2750  0.08902\n",
       "2  84300903  M  19.69  21.25  130.00  1203.0  0.10960  ...  1709.0  0.1444  0.4245  0.4504  0.2430  0.3613  0.08758\n",
       "3  84348301  M  11.42  20.38   77.58   386.1  0.14250  ...   567.7  0.2098  0.8663  0.6869  0.2575  0.6638  0.17300\n",
       "4  84358402  M  20.29  14.34  135.10  1297.0  0.10030  ...  1575.0  0.1374  0.2050  0.4000  0.1625  0.2364  0.07678\n",
       "\n",
       "[5 rows x 32 columns]"
      ]
     },
     "execution_count": 9,
     "metadata": {},
     "output_type": "execute_result"
    }
   ],
   "source": [
    "df.head()"
   ]
  },
  {
   "cell_type": "markdown",
   "id": "6bd8c391",
   "metadata": {},
   "source": [
    "0 열: 환자의 고유 아이디 넘버\n",
    "\n",
    "1 열: 종양의 악성/양성 여부 (M =악성, B =양성) \n",
    "\n",
    "2~31 열: 세포 핵의 이미지로 부터 추출된 측성값 "
   ]
  },
  {
   "cell_type": "code",
   "execution_count": 95,
   "id": "9589dcae",
   "metadata": {},
   "outputs": [
    {
     "data": {
      "text/plain": [
       "B    357\n",
       "M    212\n",
       "dtype: int64"
      ]
     },
     "execution_count": 95,
     "metadata": {},
     "output_type": "execute_result"
    }
   ],
   "source": [
    "pd.Series.value_counts(df.loc[:,1].values)"
   ]
  },
  {
   "cell_type": "markdown",
   "id": "8921774d",
   "metadata": {},
   "source": [
    "불균형한 레이블을 갖는 데이터는 아님. 각 레이블에 해당하는 데이터 분포가 균등한 편."
   ]
  },
  {
   "cell_type": "code",
   "execution_count": null,
   "id": "ceda1559",
   "metadata": {},
   "outputs": [],
   "source": [
    "X = df.loc[:,range(2,32)].values\n",
    "y = df.loc[:,1].values"
   ]
  },
  {
   "cell_type": "code",
   "execution_count": 30,
   "id": "be12b032",
   "metadata": {},
   "outputs": [],
   "source": [
    "from sklearn.preprocessing import LabelEncoder\n",
    "\n",
    "le = LabelEncoder()\n",
    "y = le.fit_transform(y) "
   ]
  },
  {
   "cell_type": "code",
   "execution_count": 32,
   "id": "266e3fe7",
   "metadata": {},
   "outputs": [],
   "source": [
    "from sklearn.model_selection import train_test_split\n",
    "\n",
    "X_train, X_test, y_train, y_test = train_test_split(X,y,test_size=0.2,stratify=y,random_state=1)"
   ]
  },
  {
   "cell_type": "markdown",
   "id": "72be5161",
   "metadata": {},
   "source": [
    "타깃 변수 요인 변수로 바꾸고, train, test 세트로 분리 (test 세트 전체의 20%로 분리했음)"
   ]
  },
  {
   "cell_type": "code",
   "execution_count": 52,
   "id": "0cdd1c41",
   "metadata": {},
   "outputs": [
    {
     "data": {
      "image/png": "[encoded data removed]",
      "text/plain": [
       "<Figure size 432x288 with 1 Axes>"
      ]
     },
     "metadata": {
      "needs_background": "light"
     },
     "output_type": "display_data"
    }
   ],
   "source": [
    "from sklearn.decomposition import PCA\n",
    "from sklearn.ensemble import GradientBoostingClassifier\n",
    "from sklearn.pipeline import make_pipeline\n",
    "from sklearn.metrics import confusion_matrix\n",
    "import matplotlib.pyplot as plt\n",
    "\n",
    "pipe_gc = make_pipeline(PCA(n_components=3),\n",
    "                       GradientBoostingClassifier(n_estimators=500,random_state=1))\n",
    "\n",
    "pipe_gc.fit(X_train,y_train)\n",
    "y_pred = pipe_gc.predict(X_test)\n",
    "\n",
    "confmat = confusion_matrix(y_true=y_test,y_pred=y_pred)\n",
    "\n",
    "fig, ax = plt.subplots()\n",
    "ax.matshow(confmat, cmap = plt.cm.Greens)\n",
    "for i in range(confmat.shape[0]):\n",
    "    for j in range(confmat.shape[1]):\n",
    "        ax.text(x=i,y=j,s=confmat[i,j], va='center',ha='center')\n",
    "\n",
    "plt.title('Confusion Matrix')\n",
    "plt.xlabel('predicted class')\n",
    "plt.ylabel('true class')\n",
    "plt.show()\n"
   ]
  },
  {
   "cell_type": "code",
   "execution_count": 56,
   "id": "a0f6bf58",
   "metadata": {},
   "outputs": [
    {
     "name": "stdout",
     "output_type": "stream",
     "text": [
      "테스트 정확도: 0.930 \n",
      "테스트 민감도: 0.905\n"
     ]
    }
   ],
   "source": [
    "from sklearn.metrics import accuracy_score, recall_score\n",
    "\n",
    "accuracy = accuracy_score(y_true=y_test,y_pred=y_pred)\n",
    "recall = recall_score(y_true=y_test,y_pred=y_pred)\n",
    "\n",
    "print('테스트 정확도: %.3f \\n테스트 민감도: %.3f'%(accuracy,recall))"
   ]
  },
  {
   "cell_type": "markdown",
   "id": "627768a2",
   "metadata": {},
   "source": [
    "먼저, 홀드 아웃 기법을 통해 모델을 세우고 예측을 해보았음. \n",
    "\n",
    "다음은 훈련세트를 k개의 폴드로 나누어서 교차검증을 실시함"
   ]
  },
  {
   "cell_type": "markdown",
   "id": "490ef580",
   "metadata": {},
   "source": [
    "## k-겹 교차검증"
   ]
  },
  {
   "cell_type": "code",
   "execution_count": 100,
   "id": "4cb211fc",
   "metadata": {},
   "outputs": [
    {
     "name": "stdout",
     "output_type": "stream",
     "text": [
      "1번 폴드: \n",
      "정확도0.913 \n",
      "재현율: 0.824\n",
      "\n",
      "2번 폴드: \n",
      "정확도0.957 \n",
      "재현율: 1.000\n",
      "\n",
      "3번 폴드: \n",
      "정확도0.913 \n",
      "재현율: 0.882\n",
      "\n",
      "4번 폴드: \n",
      "정확도0.935 \n",
      "재현율: 0.941\n",
      "\n",
      "5번 폴드: \n",
      "정확도0.848 \n",
      "재현율: 0.882\n",
      "\n",
      "6번 폴드: \n",
      "정확도0.911 \n",
      "재현율: 0.765\n",
      "\n",
      "7번 폴드: \n",
      "정확도0.956 \n",
      "재현율: 0.882\n",
      "\n",
      "8번 폴드: \n",
      "정확도0.933 \n",
      "재현율: 0.824\n",
      "\n",
      "9번 폴드: \n",
      "정확도0.889 \n",
      "재현율: 0.941\n",
      "\n",
      "10번 폴드: \n",
      "정확도0.933 \n",
      "재현율: 0.882\n",
      "\n"
     ]
    }
   ],
   "source": [
    "## from sklearn.model_selection import cross_val_score  ##cross_val_score 의 경우 accuracy 이외에는 실행이 잘 안됨\n",
    "\n",
    "from sklearn.model_selection import StratifiedKFold\n",
    "from sklearn.metrics import recall_score, accuracy_score\n",
    "\n",
    "folds = StratifiedKFold(n_splits=10, shuffle=True, random_state=1).split(X_train,y_train)\n",
    "\n",
    "accuracy_list =[]\n",
    "recall_list = []\n",
    "\n",
    "for k, (train, test) in enumerate(folds):\n",
    "    pipe_gc.fit(X_train[train],y_train[train])\n",
    "    y_pred = pipe_gc.predict(X_train[test])\n",
    "    recall = recall_score(y_true=y_train[test],y_pred=y_pred)\n",
    "    accuracy = accuracy_score(y_true=y_train[test],y_pred=y_pred)\n",
    "    \n",
    "    recall_list.append(recall)\n",
    "    accuracy_list.append(accuracy)\n",
    "    print('%d번 폴드: \\n정확도%.3f \\n재현율: %.3f\\n'%(k+1,accuracy,recall))\n"
   ]
  },
  {
   "cell_type": "code",
   "execution_count": 103,
   "id": "45cf1b0e",
   "metadata": {},
   "outputs": [
    {
     "name": "stdout",
     "output_type": "stream",
     "text": [
      "전체 평균 정확도: 0.919 +/- 0.031, 전체 평균 재현율: 0.882 +/- 0.064\n"
     ]
    }
   ],
   "source": [
    "import numpy as np \n",
    "\n",
    "print('훈련세트 전체 평균 정확도: %.3f +/- %.3f,훈련세트 전체 평균 재현율: %.3f +/- %.3f'\n",
    "      %(np.mean(accuracy_list),np.std(accuracy_list),np.mean(recall_list),np.std(recall_list)))"
   ]
  },
  {
   "cell_type": "code",
   "execution_count": 104,
   "id": "23f05b11",
   "metadata": {},
   "outputs": [
    {
     "name": "stdout",
     "output_type": "stream",
     "text": [
      "테스트 세트 정확도: 0.947, 테스트 세트 재현율:0.929\n"
     ]
    }
   ],
   "source": [
    "y_pred = pipe_gc.predict(X_test)\n",
    "test_accuracy = accuracy_score(y_true=y_test,y_pred=y_pred)\n",
    "test_recall = recall_score(y_true=y_test,y_pred=y_pred)\n",
    "print('테스트 세트 정확도: %.3f, 테스트 세트 재현율:%.3f'%(test_accuracy,test_recall))"
   ]
  },
  {
   "cell_type": "markdown",
   "id": "096e203b",
   "metadata": {},
   "source": [
    "훈련 세트에서 교차검증 때 보다 테스트 세트 에서 더 높은 성능을 보임. \n",
    "\n",
    "과대적합의 문제는 없어보임. \n",
    "\n",
    "다음은 최적의 하이퍼 파라미터 값을 찾아가며 그리드 서치를 수행하겠음. \n",
    "\n"
   ]
  },
  {
   "cell_type": "markdown",
   "id": "a0fe89db",
   "metadata": {},
   "source": [
    "## 그리드 서치를 통한 하이퍼 파라미터 튜닝"
   ]
  },
  {
   "cell_type": "code",
   "execution_count": 106,
   "id": "f280b88d",
   "metadata": {},
   "outputs": [
    {
     "data": {
      "text/plain": [
       "{'memory': None,\n",
       " 'steps': [('pca', PCA(n_components=3)),\n",
       "  ('gradientboostingclassifier',\n",
       "   GradientBoostingClassifier(n_estimators=500, random_state=1))],\n",
       " 'verbose': False,\n",
       " 'pca': PCA(n_components=3),\n",
       " 'gradientboostingclassifier': GradientBoostingClassifier(n_estimators=500, random_state=1),\n",
       " 'pca__copy': True,\n",
       " 'pca__iterated_power': 'auto',\n",
       " 'pca__n_components': 3,\n",
       " 'pca__random_state': None,\n",
       " 'pca__svd_solver': 'auto',\n",
       " 'pca__tol': 0.0,\n",
       " 'pca__whiten': False,\n",
       " 'gradientboostingclassifier__ccp_alpha': 0.0,\n",
       " 'gradientboostingclassifier__criterion': 'friedman_mse',\n",
       " 'gradientboostingclassifier__init': None,\n",
       " 'gradientboostingclassifier__learning_rate': 0.1,\n",
       " 'gradientboostingclassifier__loss': 'deviance',\n",
       " 'gradientboostingclassifier__max_depth': 3,\n",
       " 'gradientboostingclassifier__max_features': None,\n",
       " 'gradientboostingclassifier__max_leaf_nodes': None,\n",
       " 'gradientboostingclassifier__min_impurity_decrease': 0.0,\n",
       " 'gradientboostingclassifier__min_impurity_split': None,\n",
       " 'gradientboostingclassifier__min_samples_leaf': 1,\n",
       " 'gradientboostingclassifier__min_samples_split': 2,\n",
       " 'gradientboostingclassifier__min_weight_fraction_leaf': 0.0,\n",
       " 'gradientboostingclassifier__n_estimators': 500,\n",
       " 'gradientboostingclassifier__n_iter_no_change': None,\n",
       " 'gradientboostingclassifier__random_state': 1,\n",
       " 'gradientboostingclassifier__subsample': 1.0,\n",
       " 'gradientboostingclassifier__tol': 0.0001,\n",
       " 'gradientboostingclassifier__validation_fraction': 0.1,\n",
       " 'gradientboostingclassifier__verbose': 0,\n",
       " 'gradientboostingclassifier__warm_start': False}"
      ]
     },
     "execution_count": 106,
     "metadata": {},
     "output_type": "execute_result"
    }
   ],
   "source": [
    "pipe_gc.get_params() ## 튜닝할 하이퍼 파라미터 명을 찾음 "
   ]
  },
  {
   "cell_type": "code",
   "execution_count": 135,
   "id": "9c926014",
   "metadata": {},
   "outputs": [],
   "source": [
    "from sklearn.model_selection import GridSearchCV\n",
    "\n",
    "params = [{'gradientboostingclassifier__learning_rate':[0.001,0.01,0.1,1],\n",
    "          'gradientboostingclassifier__n_estimators': [50,100,150,200,500],\n",
    "          'gradientboostingclassifier__max_depth': [None,1,2,3]},]\n",
    "\n",
    "gs = GridSearchCV(estimator=pipe_gc ,param_grid=params, scoring = 'accuracy',cv=10)\n",
    "\n",
    "gs = gs.fit (X_train, y_train)"
   ]
  },
  {
   "cell_type": "code",
   "execution_count": 109,
   "id": "1297bc30",
   "metadata": {},
   "outputs": [
    {
     "name": "stdout",
     "output_type": "stream",
     "text": [
      "정확도: 0.925\n",
      "정확도: {'gradientboostingclassifier__learning_rate': 0.1, 'gradientboostingclassifier__max_depth': 1, 'gradientboostingclassifier__n_estimators': 100}\n"
     ]
    }
   ],
   "source": [
    "print('정확도: %.3f'%gs.best_score_)\n",
    "print('정확도: %s'%gs.best_params_)"
   ]
  },
  {
   "cell_type": "code",
   "execution_count": 113,
   "id": "011d3465",
   "metadata": {},
   "outputs": [
    {
     "name": "stdout",
     "output_type": "stream",
     "text": [
      "테스트 세트 정확도: 0.947\n"
     ]
    }
   ],
   "source": [
    "clf = gs.best_estimator_\n",
    "\n",
    "y_pred = clf.predict(X_test)\n",
    "\n",
    "accuracy = accuracy_score(y_true=y_test, y_pred=y_pred)\n",
    "\n",
    "print('테스트 세트 정확도: %.3f'%accuracy)"
   ]
  },
  {
   "cell_type": "markdown",
   "id": "38dc9715",
   "metadata": {},
   "source": [
    "## ROC 곡선, 학습곡선, 검증곡선 그리기 "
   ]
  },
  {
   "cell_type": "code",
   "execution_count": 114,
   "id": "e24583c3",
   "metadata": {},
   "outputs": [],
   "source": [
    "from sklearn.preprocessing import StandardScaler ## 로지스틱회귀는 데이터 스케일에 민감하므로 표준화 작업을 거치겠음\n",
    "from sklearn.linear_model import LogisticRegression\n",
    "\n",
    "pipe_lr = make_pipeline(StandardScaler(),LogisticRegression(solver='liblinear',penalty='l2',random_state=1))"
   ]
  },
  {
   "cell_type": "code",
   "execution_count": 185,
   "id": "d45f0af3",
   "metadata": {},
   "outputs": [
    {
     "data": {
      "image/png": "[encoded data removed]",
      "text/plain": [
       "<Figure size 432x288 with 1 Axes>"
      ]
     },
     "metadata": {
      "needs_background": "light"
     },
     "output_type": "display_data"
    }
   ],
   "source": [
    "from sklearn.model_selection import learning_curve\n",
    "\n",
    "train_sizes, train_scores, test_scores = learning_curve(estimator=pipe_lr, \n",
    "                                                        X=X_train, y=y_train,train_sizes=np.linspace(0.1,1.0,10), cv=5)\n",
    "\n",
    "train_mean = np.mean(train_scores, axis=1)\n",
    "test_mean = np.mean(test_scores, axis=1)\n",
    "train_std = np.std(train_scores, axis=1)\n",
    "test_std = np.std(test_scores, axis=1)\n",
    "\n",
    "plt.plot(train_sizes,train_mean, label='train accuracy')\n",
    "plt.fill_between(train_sizes,train_mean+train_std,train_mean-train_std, alpha=0.15)\n",
    "\n",
    "plt.plot(train_sizes,test_mean, label='test accuracy')\n",
    "plt.fill_between(train_sizes,test_mean+test_std,test_mean-test_std,alpha=0.15)\n",
    "\n",
    "plt.ylim([0.9,1.05])\n",
    "plt.xlim([0,400])\n",
    "plt.legend(loc='lower right')\n",
    "plt.xlabel('train size',fontsize=15)\n",
    "plt.ylabel('accuracy',fontsize=15)\n",
    "plt.title('learning curve',fontsize=20)\n",
    "plt.grid()\n",
    "plt.show()\n"
   ]
  },
  {
   "cell_type": "code",
   "execution_count": 184,
   "id": "18684c99",
   "metadata": {},
   "outputs": [
    {
     "data": {
      "text/plain": [
       "Text(0.5, 1.0, 'validation curve')"
      ]
     },
     "execution_count": 184,
     "metadata": {},
     "output_type": "execute_result"
    },
    {
     "data": {
      "image/png": "[encoded data removed]",
      "text/plain": [
       "<Figure size 432x288 with 1 Axes>"
      ]
     },
     "metadata": {
      "needs_background": "light"
     },
     "output_type": "display_data"
    }
   ],
   "source": [
    "from sklearn.model_selection import validation_curve\n",
    "\n",
    "param_range_n_estimator = [0.001,0.01,0.1,1,10,100,1000]\n",
    "\n",
    "train_scores, test_scores = validation_curve(estimator=pipe_lr, X=X_train, y=y_train, param_name='logisticregression__C',\n",
    "                                            param_range=param_range_n_estimator,cv=10)\n",
    "\n",
    "train_mean = np.mean(train_scores, axis=1)\n",
    "test_mean = np.mean(test_scores, axis=1)\n",
    "train_std = np.std(train_scores, axis=1)\n",
    "test_std = np.std(test_scores, axis=1)\n",
    "\n",
    "plt.plot(param_range_n_estimator,train_mean, label='train accuracy')\n",
    "plt.fill_between(param_range_n_estimator,train_mean+train_std,train_mean-train_std, alpha=0.15)\n",
    "plt.plot(param_range_n_estimator,test_mean, label='test accuracy')\n",
    "plt.fill_between(param_range_n_estimator,test_mean+test_std,test_mean-test_std, alpha=0.15)\n",
    "\n",
    "plt.grid()\n",
    "plt.legend(loc='lower right')\n",
    "plt.xscale('log')\n",
    "plt.ylim([0.9,1.05])\n",
    "plt.xlabel('Parameter C',fontsize=15)\n",
    "plt.ylabel('accuracy',fontsize=15)\n",
    "plt.title('validation curve',fontsize=20)\n",
    "\n"
   ]
  },
  {
   "cell_type": "code",
   "execution_count": 181,
   "id": "cbf580a0",
   "metadata": {},
   "outputs": [
    {
     "data": {
      "image/png": "[encoded data removed]",
      "text/plain": [
       "<Figure size 504x360 with 1 Axes>"
      ]
     },
     "metadata": {
      "needs_background": "light"
     },
     "output_type": "display_data"
    }
   ],
   "source": [
    "from sklearn.svm import SVC \n",
    "from sklearn.metrics import roc_curve, auc\n",
    "\n",
    "pipe_svc = make_pipeline(StandardScaler(),PCA(n_components=5),SVC(probability=True)) ##  SVC가 레이블 값이 아닌 확률값을 반환하도록 probability=False 명시\n",
    "\n",
    "cv = list(StratifiedKFold(n_splits=3, shuffle=True,random_state=1).split(X_train, y_train))\n",
    "\n",
    "plt.figure(figsize=(7,5))\n",
    "\n",
    "for k, (train, test) in enumerate(cv):\n",
    "    pipe_svc.fit(X_train[train],y_train[train])\n",
    "    probas = pipe_svc.predict_proba(X_train[test])\n",
    "    \n",
    "    fpr, tpr, thresholds = roc_curve(y_train[test],probas[:,1], pos_label=1)\n",
    "    auc_score = auc(fpr, tpr)\n",
    "    plt.plot(fpr, tpr, label='%d-th fold : auc %.3f'%(k+1,auc_score))\n",
    "\n",
    "plt.plot([0,1],[0,1], linestyle='--', label='random guessing')\n",
    "plt.grid()\n",
    "plt.xlabel('fpr', fontsize=15)\n",
    "plt.ylabel('tpr',fontsize=15)\n",
    "plt.title('ROC Curve of SVC', fontsize=20)\n",
    "plt.legend(loc='lower right')\n",
    "plt.show()\n",
    "    \n",
    "    "
   ]
  },
  {
   "cell_type": "markdown",
   "id": "93605b9f",
   "metadata": {},
   "source": [
    "훈련 데이터의 각 폴드별 auc 점수와 함꼐 ROC 곡선을 그려보았다. \n",
    "\n",
    "auc 점수가 너무 높게 나온 것으로 보아 과대적합이 되었을 가능성이 있다. "
   ]
  },
  {
   "cell_type": "markdown",
   "id": "9748e87e",
   "metadata": {},
   "source": [
    "## 불균형한 클래스 다루기"
   ]
  },
  {
   "cell_type": "code",
   "execution_count": 190,
   "id": "6fa9fc20",
   "metadata": {},
   "outputs": [
    {
     "name": "stdout",
     "output_type": "stream",
     "text": [
      "Counter({0: 24609, 1: 391})\n"
     ]
    }
   ],
   "source": [
    "## SMOTE 기법을 이용하여 불균형한 클래스의 클래스 별 데이터 갯수를 비슷하게 맞춰 주려함 \n",
    "## 일단 임의로 불균형한 데이터를 생성 : 2개의 클래스를 가진 독립변수와 4개의 종속변수를 가진 데이터를 생성함 \n",
    "\n",
    "from sklearn.datasets import make_classification\n",
    "from collections import Counter\n",
    "\n",
    "X, y = make_classification(n_samples=25000, weights=[0.99], n_features=4, n_classes=2,n_redundant=0, random_state=1)\n",
    "\n",
    "counter = Counter(y)\n",
    "print(counter)"
   ]
  },
  {
   "cell_type": "markdown",
   "id": "5de6cd5b",
   "metadata": {},
   "source": [
    "두 클래스가 9:1 비율로 매우 불균형한 데이터가 생성 "
   ]
  },
  {
   "cell_type": "code",
   "execution_count": 195,
   "id": "07876050",
   "metadata": {},
   "outputs": [
    {
     "name": "stdout",
     "output_type": "stream",
     "text": [
      "Counter({0: 24609, 1: 24609})\n"
     ]
    }
   ],
   "source": [
    "from imblearn.over_sampling import SMOTE\n",
    "\n",
    "smote = SMOTE()\n",
    "X, y = smote.fit_resample(X, y)\n",
    "\n",
    "counter = Counter(y)\n",
    "print(counter)"
   ]
  },
  {
   "cell_type": "markdown",
   "id": "899e472d",
   "metadata": {},
   "source": [
    "SMOTE 기법을 통해 5:5의 비율로 레이블별 데이터 분포 비율을 맞춤"
   ]
  }
 ],
 "metadata": {
  "kernelspec": {
   "display_name": "Python 3",
   "language": "python",
   "name": "python3"
  },
  "language_info": {
   "codemirror_mode": {
    "name": "ipython",
    "version": 3
   },
   "file_extension": ".py",
   "mimetype": "text/x-python",
   "name": "python",
   "nbconvert_exporter": "python",
   "pygments_lexer": "ipython3",
   "version": "3.8.8"
  },
  "toc": {
   "base_numbering": 1,
   "nav_menu": {},
   "number_sections": true,
   "sideBar": true,
   "skip_h1_title": false,
   "title_cell": "Table of Contents",
   "title_sidebar": "Contents",
   "toc_cell": false,
   "toc_position": {},
   "toc_section_display": true,
   "toc_window_display": false
  },
  "varInspector": {
   "cols": {
    "lenName": 16,
    "lenType": 16,
    "lenVar": 40
   },
   "kernels_config": {
    "python": {
     "delete_cmd_postfix": "",
     "delete_cmd_prefix": "del ",
     "library": "var_list.py",
     "varRefreshCmd": "print(var_dic_list())"
    },
    "r": {
     "delete_cmd_postfix": ") ",
     "delete_cmd_prefix": "rm(",
     "library": "var_list.r",
     "varRefreshCmd": "cat(var_dic_list()) "
    }
   },
   "types_to_exclude": [
    "module",
    "function",
    "builtin_function_or_method",
    "instance",
    "_Feature"
   ],
   "window_display": false
  }
 },
 "nbformat": 4,
 "nbformat_minor": 5
}
